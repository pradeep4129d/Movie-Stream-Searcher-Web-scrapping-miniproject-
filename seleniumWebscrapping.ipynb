{
 "cells": [
  {
   "cell_type": "code",
   "execution_count": 1,
   "metadata": {},
   "outputs": [
    {
     "name": "stderr",
     "output_type": "stream",
     "text": [
      "C:\\Users\\Pradeep\\AppData\\Local\\Temp\\ipykernel_13132\\2791881533.py:1: DeprecationWarning: \n",
      "Pyarrow will become a required dependency of pandas in the next major release of pandas (pandas 3.0),\n",
      "(to allow more performant data types, such as the Arrow string type, and better interoperability with other libraries)\n",
      "but was not found to be installed on your system.\n",
      "If this would cause problems for you,\n",
      "please provide us feedback at https://github.com/pandas-dev/pandas/issues/54466\n",
      "        \n",
      "  import pandas as pd\n"
     ]
    }
   ],
   "source": [
    "import pandas as pd\n",
    "from selenium import webdriver\n",
    "from time import sleep\n",
    "from selenium.webdriver.chrome.options import Options\n",
    "from webdriver_manager.chrome import ChromeDriverManager\n",
    "from selenium.webdriver.common.by import By\n",
    "from selenium.webdriver.common.keys import Keys\n",
    "from selenium.webdriver.common.action_chains import ActionChains"
   ]
  },
  {
   "cell_type": "code",
   "execution_count": 22,
   "metadata": {},
   "outputs": [],
   "source": [
    "q=input('search movie name:')"
   ]
  },
  {
   "cell_type": "code",
   "execution_count": 23,
   "metadata": {},
   "outputs": [],
   "source": [
    "options=webdriver.ChromeOptions()\n",
    "\n",
    "driver=webdriver.Chrome(options=options)\n",
    "page=driver.get('https://www.primevideo.com/region/eu/offers/nonprimehomepage/ref=atv_dl_rdr')\n",
    "search_icon = driver.find_element(By.XPATH,'.//input[@class=\"iLtUZ-\"]').click()"
   ]
  },
  {
   "cell_type": "code",
   "execution_count": 24,
   "metadata": {},
   "outputs": [],
   "source": [
    "search_bar=driver.find_element(By.XPATH,'.//input[@class=\"lcsYK8\"]')\n",
    "search_bar.send_keys(q)\n",
    "search_bar.send_keys(Keys.RETURN)"
   ]
  },
  {
   "cell_type": "code",
   "execution_count": 25,
   "metadata": {},
   "outputs": [],
   "source": [
    "prime=driver.find_element(By.XPATH,'.//a[@class=\"_3HZFFn\"]')\n",
    "name1=prime.text"
   ]
  },
  {
   "cell_type": "code",
   "execution_count": 26,
   "metadata": {},
   "outputs": [],
   "source": [
    "if prime.text.lower()==q.lower():\n",
    "    actions = ActionChains(driver)\n",
    "    actions.move_to_element(prime).perform()\n",
    "    card=driver.find_element(By.XPATH, './/a[@class=\"_0r6cJW ESUyK5 YJ1MaA _1FUZFF tst-video-overlay-player-overlay tst-preroll-player OTNFD1\"]').click()\n",
    "    des=driver.find_element(By.XPATH,'.//span[@class=\"_1H6ABQ\"]')\n",
    "    details=driver.find_element(By.XPATH,'.//div[@class=\"dv-node-dp-badges\"]')\n",
    "    data=[des,details]\n",
    "else:\n",
    "    print('not found')\n",
    "    prime=0"
   ]
  },
  {
   "cell_type": "code",
   "execution_count": 27,
   "metadata": {},
   "outputs": [],
   "source": [
    "driver2=webdriver.Chrome(options=options)\n",
    "page=driver2.get('https://www.hotstar.com/in/explore')"
   ]
  },
  {
   "cell_type": "code",
   "execution_count": 28,
   "metadata": {},
   "outputs": [],
   "source": [
    "search=driver2.find_element(By.XPATH,'.//input[@class=\"_2fyaLvoy3ihArVClDsg1Wk\"]')\n",
    "search.send_keys(q)"
   ]
  },
  {
   "cell_type": "code",
   "execution_count": 29,
   "metadata": {},
   "outputs": [
    {
     "name": "stdout",
     "output_type": "stream",
     "text": [
      "not found\n"
     ]
    }
   ],
   "source": [
    "hotstar=driver2.find_elements(By.XPATH,'.//div[@class=\"NAdV-CCkf0Om8IiNzTQkb\"]')\n",
    "if(len(hotstar)):\n",
    "    print(hotstar[0].text)\n",
    "else:\n",
    "    print('not found')"
   ]
  },
  {
   "cell_type": "code",
   "execution_count": 30,
   "metadata": {},
   "outputs": [
    {
     "name": "stdout",
     "output_type": "stream",
     "text": [
      "tiger 3 is in prime video\n",
      "details:\n",
      "Name:Tiger 3\n",
      "description:Tiger (Salman Khan) is informed about a new military group that is planning something beyond all imagination, headed by a deeply motivated Aatish Rehman (Emraan Hashmi), who has a history of his own with Tiger and a personal vendetta to settle. Tiger & Zoya (Katrina Kaif), along with their compatriots, must overcome some arms dealers, assassins and the immensely calculative Aatish.\n",
      "IMDb 5.8\n",
      "2 h 35 min\n",
      "2023\n",
      "X-RAY\n",
      "UHD\n",
      "U/A 13+\n"
     ]
    }
   ],
   "source": [
    "count=0\n",
    "if (prime):\n",
    "    for char in q.split(' '):\n",
    "        if char.lower() in name1.lower():\n",
    "            count=count+1\n",
    "        if count>=len(q.split(' ')):\n",
    "            print(f'{q} is in prime video')\n",
    "            print(f'details:\\nName:{name1}\\ndescription:{data[0].text}\\n{data[1].text}')\n",
    "count=0\n",
    "if (len(hotstar)):\n",
    "    for char in q.split(' '):\n",
    "        if char.lower() in hotstar[0].text.lower():\n",
    "            count=count+1\n",
    "        if count>=len(q.split(' ')):\n",
    "            print(f'{q} is in hotstar')\n",
    "            print(f'details:{hotstar[0].text}')\n",
    "if not prime and not len(hotstar):\n",
    "    print(\"No such show found\")"
   ]
  }
 ],
 "metadata": {
  "kernelspec": {
   "display_name": "Python 3",
   "language": "python",
   "name": "python3"
  },
  "language_info": {
   "codemirror_mode": {
    "name": "ipython",
    "version": 3
   },
   "file_extension": ".py",
   "mimetype": "text/x-python",
   "name": "python",
   "nbconvert_exporter": "python",
   "pygments_lexer": "ipython3",
   "version": "3.11.5"
  }
 },
 "nbformat": 4,
 "nbformat_minor": 2
}
